{
 "cells": [
  {
   "cell_type": "code",
   "execution_count": 1,
   "id": "a919c9b8",
   "metadata": {},
   "outputs": [],
   "source": [
    "from langchain.chat_models import ChatOpenAI\n",
    "from langchain import PromptTemplate\n",
    "from langchain.chains import LLMChain\n",
    "import openai\n",
    "import base64"
   ]
  },
  {
   "cell_type": "code",
   "execution_count": 2,
   "id": "5b08deec",
   "metadata": {},
   "outputs": [],
   "source": [
    "OPENAI_API_KEY ='sk-proj-1vPIlHmPoYx9c8W2Co0kT3BlbkFJqzfUBPrTA6eCLpiwthJk'"
   ]
  },
  {
   "cell_type": "code",
   "execution_count": 3,
   "id": "b7efc113",
   "metadata": {},
   "outputs": [],
   "source": [
    "command=\"\"\" \n",
    "You are an AI math tutor. Your job is to help students solve math_problem in picture by providing step-by-step solutions and necessary explanations. Your responses should be clear, concise, and educational, guiding the student through the problem-solving process. Include only relevant information that will help the student understand the solution and the concepts involved. Use the following guidelines to construct your responses:\n",
    " Instructions:\n",
    "    1)Restate the Problem: Begin by restating the given math problem to ensure clarity.\n",
    "    2)Identify the Concept: Briefly identify the mathematical concept or principle needed to solve the problem.\n",
    "    3)Step-by-Step Solution: Break down the solution into clear, manageable steps. Number each step for easy reference.\n",
    "    4)Explanation: Provide a brief explanation for each step to clarify why it's necessary and how it contributes to solving the problem.\n",
    "    5)Final Answer: Clearly state the final answer, emphasizing it so the student can easily identify it.\n",
    "    6)Additional Tips: If relevant, offer additional tips or common mistakes to avoid related to the problem type.\n",
    "    7)7) Format: Write all mathematical equations and expressions in plain text, avoiding LaTeX or special formatting.\n",
    "\"\"\""
   ]
  },
  {
   "cell_type": "code",
   "execution_count": 4,
   "id": "01304321",
   "metadata": {},
   "outputs": [],
   "source": [
    "uri=\"https://i.pinimg.com/736x/1d/be/e7/1dbee7607d251d66ccce1c1fe450db09.jpg\""
   ]
  },
  {
   "cell_type": "code",
   "execution_count": 5,
   "id": "7c3023fa",
   "metadata": {
    "scrolled": true
   },
   "outputs": [],
   "source": [
    "from openai import OpenAI\n",
    "\n",
    "client = OpenAI()\n",
    "response = client.chat.completions.create(\n",
    "  model=\"gpt-4o\",\n",
    "  messages=[\n",
    "    {\n",
    "      \"role\": \"user\",\n",
    "      \"content\": [\n",
    "        {\n",
    "          \"type\": \"text\",\n",
    "          \"text\": command,\n",
    "        },\n",
    "#         {\n",
    "#           \"type\": \"image_url\",\n",
    "#           \"image_url\": {\n",
    "#             \"url\": \"https://upload.wikimedia.org/wikipedia/commons/thumb/d/dd/Gfp-wisconsin-madison-the-nature-boardwalk.jpg/2560px-Gfp-wisconsin-madison-the-nature-boardwalk.jpg\",\n",
    "#           },\n",
    "#         },\n",
    "        {\n",
    "          \"type\": \"image_url\",\n",
    "          \"image_url\": {\n",
    "            \"url\":uri\n",
    "          },\n",
    "        },\n",
    "      ],\n",
    "    }\n",
    "  ],\n",
    "  max_tokens=3000,\n",
    ")\n"
   ]
  },
  {
   "cell_type": "code",
   "execution_count": 6,
   "id": "e50d6f45",
   "metadata": {},
   "outputs": [
    {
     "name": "stdout",
     "output_type": "stream",
     "text": [
      "### Restate the Problem\n",
      "We need to find the value of \\( x + y \\) given the equations:\n",
      "1. \\( x^2 + y^2 = 7 \\)\n",
      "2. \\( x^3 + y^3 = 10 \\)\n",
      "\n",
      "### Identify the Concept\n",
      "We will use algebraic identities and substitution to solve for \\( x + y \\).\n",
      "\n",
      "### Step-by-Step Solution\n",
      "\n",
      "#### Step 1: Remember the Algebraic Identities\n",
      "1. \\( x^3 + y^3 = (x + y)(x^2 - xy + y^2) \\)\n",
      "2. \\( x^2 + y^2 = (x + y)^2 - 2xy \\)\n",
      "\n",
      "#### Step 2: Set Up the Equations\n",
      "Using the identities, we get:\n",
      "\\[ x^2 + y^2 = (x + y)^2 - 2xy = 7 \\]\n",
      "\\[ x^3 + y^3 = (x + y)(x^2 - xy + y^2) = 10 \\]\n",
      "\n",
      "#### Step 3: Let \\( s = x + y \\) and \\( p = xy \\)\n",
      "So, we have:\n",
      "\\[ s^2 - 2p = 7 \\]\n",
      "\\[ s \\cdot (s^2 - 3p) = 10 \\]\n",
      "\n",
      "#### Step 4: Express \\( p \\) in terms of \\( s \\)\n",
      "From \\( s^2 - 2p = 7 \\), we get:\n",
      "\\[ 2p = s^2 - 7 \\]\n",
      "\\[ p = \\frac{s^2 - 7}{2} \\]\n",
      "\n",
      "#### Step 5: Substitute \\( p \\) into the Second Equation\n",
      "Substitute \\( p \\) into \\( s \\cdot (s^2 - 3p) = 10 \\):\n",
      "\\[ s(s^2 - 3 \\cdot \\frac{s^2 - 7}{2}) = 10 \\]\n",
      "\\[ s(s^2 - \\frac{3s^2 - 21}{2}) = 10 \\]\n",
      "\\[ s(s^2 - \\frac{3s^2}{2} + \\frac{21}{2}) = 10 \\]\n",
      "\\[ s(\\frac{2s^2 - 3s^2 + 21}{2}) = 10 \\]\n",
      "\\[ s(\\frac{-s^2 + 21}{2}) = 10 \\]\n",
      "\\[ \\frac{s(-s^2 + 21)}{2} = 10 \\]\n",
      "\\[ s(-s^2 + 21) = 20 \\]\n",
      "\\[ -s^3 + 21s = 20 \\]\n",
      "\n",
      "#### Step 6: Solve the Cubic Equation\n",
      "\\[ s^3 - 21s + 20 = 0 \\]\n",
      "\n",
      "This equation can be solved using the Rational Root Theorem, synthetic division, or by recognizing the factor. Here, the cubic equation factors neatly to:\n",
      "\\[ s - 1 \\]\n",
      "\\[ s - 4 \\]\n",
      "\\[ s + 5 \\]\n",
      "\n",
      "#### Step 7: Determine the Roots\n",
      "\\[ s = 1 \\]\n",
      "\\[ s = 4 \\]\n",
      "\\[ s = -5 \\]\n",
      "\n",
      "### Final Answer\n",
      "The possible solutions for \\( x + y \\) are:\n",
      "**\\( x + y = 1 \\) or \\( x + y = 4 \\) or \\( x + y = -5 \\)**\n",
      "\n",
      "### Additional Tips\n",
      "- Verify the solutions by checking if substituting back into the original identities gives consistent results.\n",
      "- Watch out for factoring mistakes when solving cubic equations.\n",
      "- Use substitution systematically to reduce errors in algebraic manipulation.\n"
     ]
    }
   ],
   "source": [
    "print(response.choices[0].message.content)"
   ]
  },
  {
   "cell_type": "code",
   "execution_count": null,
   "id": "6a893a9d",
   "metadata": {},
   "outputs": [],
   "source": []
  }
 ],
 "metadata": {
  "kernelspec": {
   "display_name": "Python 3 (ipykernel)",
   "language": "python",
   "name": "python3"
  },
  "language_info": {
   "codemirror_mode": {
    "name": "ipython",
    "version": 3
   },
   "file_extension": ".py",
   "mimetype": "text/x-python",
   "name": "python",
   "nbconvert_exporter": "python",
   "pygments_lexer": "ipython3",
   "version": "3.11.0"
  }
 },
 "nbformat": 4,
 "nbformat_minor": 5
}
