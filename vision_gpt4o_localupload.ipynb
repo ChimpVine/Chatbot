{
 "cells": [
  {
   "cell_type": "code",
   "execution_count": 1,
   "id": "f4229609",
   "metadata": {},
   "outputs": [],
   "source": [
    "command=\"\"\" \n",
    "You are an AI math tutor. Your job is to help students solve math_problem in picture by providing step-by-step solutions and necessary explanations. Your responses should be clear, concise, and educational, guiding the student through the problem-solving process. Include only relevant information that will help the student understand the solution and the concepts involved. Use the following guidelines to construct your responses:\n",
    " Instructions:\n",
    "    1)Restate the Problem: Begin by restating the given math problem to ensure clarity.\n",
    "    2)Identify the Concept: Briefly identify the mathematical concept or principle needed to solve the problem.\n",
    "    3)Step-by-Step Solution: Break down the solution into clear, manageable steps. Number each step for easy reference.\n",
    "    4)Explanation: Provide a brief explanation for each step to clarify why it's necessary and how it contributes to solving the problem.\n",
    "    5)Final Answer: Clearly state the final answer, emphasizing it so the student can easily identify it.\n",
    "    6)Additional Tips: If relevant, offer additional tips or common mistakes to avoid related to the problem type.\n",
    "    7)7) Format: Write all mathematical equations and expressions in plain text, avoiding LaTeX or special formatting.\n",
    "\"\"\""
   ]
  },
  {
   "cell_type": "code",
   "execution_count": 2,
   "id": "8aadb104",
   "metadata": {},
   "outputs": [],
   "source": [
    "import base64\n",
    "import requests\n",
    "\n",
    "# OpenAI API Key\n",
    "api_key = \"sk-proj-1vPIlHmPoYx9c8W2Co0kT3BlbkFJqzfUBPrTA6eCLpiwthJk\"\n",
    "\n",
    "# Function to encode the image\n",
    "def encode_image(image_path):\n",
    "  with open(image_path, \"rb\") as image_file:\n",
    "    return base64.b64encode(image_file.read()).decode('utf-8')\n",
    "\n",
    "# Path to your image\n",
    "image_path = \"D:\\ChimpVine\\Chatbot(customized)\\MathChatBOT\\example.png\"\n",
    "\n",
    "# Getting the base64 string\n",
    "base64_image = encode_image(image_path)\n",
    "\n",
    "headers = {\n",
    "  \"Content-Type\": \"application/json\",\n",
    "  \"Authorization\": f\"Bearer {api_key}\"\n",
    "}\n",
    "\n",
    "payload = {\n",
    "  \"model\": \"gpt-4o\",\n",
    "  \"messages\": [\n",
    "    {\n",
    "      \"role\": \"user\",\n",
    "      \"content\": [\n",
    "        {\n",
    "          \"type\": \"text\",\n",
    "          \"text\": command\n",
    "        },\n",
    "        {\n",
    "          \"type\": \"image_url\",\n",
    "          \"image_url\": {\n",
    "            \"url\": f\"data:image/jpeg;base64,{base64_image}\"\n",
    "          }\n",
    "        }\n",
    "      ]\n",
    "    }\n",
    "  ],\n",
    "  \"max_tokens\": 300\n",
    "}\n",
    "\n",
    "response = requests.post(\"https://api.openai.com/v1/chat/completions\", headers=headers, json=payload)\n",
    "\n"
   ]
  },
  {
   "cell_type": "code",
   "execution_count": 3,
   "id": "b16b739c",
   "metadata": {},
   "outputs": [
    {
     "name": "stdout",
     "output_type": "stream",
     "text": [
      "{\n",
      "  \"id\": \"chatcmpl-9UrOCyWwTlE4OViMN7ANtUScbe6aT\",\n",
      "  \"object\": \"chat.completion\",\n",
      "  \"created\": 1717142096,\n",
      "  \"model\": \"gpt-4o-2024-05-13\",\n",
      "  \"choices\": [\n",
      "    {\n",
      "      \"index\": 0,\n",
      "      \"message\": {\n",
      "        \"role\": \"assistant\",\n",
      "        \"content\": \"### Restate the Problem:\\nThe given math problem is to solve the equation: \\n8 ÷ 2(2 + 2) = ?\\n\\n### Identify the Concept:\\nTo solve this problem, we will use the order of operations, often remembered by the acronym PEMDAS (Parentheses, Exponents, Multiplication and Division (from left to right), Addition and Subtraction (from left to right)).\\n\\n### Step-by-Step Solution:\\n\\n1. **Solve inside the parentheses:**\\n   - 2 + 2 = 4\\n   - The equation now is: 8 ÷ 2(4)\\n\\n2. **Perform division and multiplication from left to right:**\\n   - First, rewrite to make it clear we are following order of operations precisely:\\n     8 ÷ 2 * 4\\n   - Perform the division first:\\n     8 ÷ 2 = 4\\n\\n3. **Multiply the result from Step 2 by the next number:**\\n    - 4 * 4 = 16\\n\\n### Explanation:\\n- **Step 1:** Adding inside the parentheses ensures we simplify expressions inside first.\\n- **Step 2:** Dividing first according to the order of operations as both multiplication and division are done left to right.\\n- **Step 3:** Multiplying the result ensures we complete the operations correctly.\\n\\n### Final Answer:\\n**The final answer to the equation 8 ÷ 2(2 + 2) is \"\n",
      "      },\n",
      "      \"logprobs\": null,\n",
      "      \"finish_reason\": \"length\"\n",
      "    }\n",
      "  ],\n",
      "  \"usage\": {\n",
      "    \"prompt_tokens\": 508,\n",
      "    \"completion_tokens\": 300,\n",
      "    \"total_tokens\": 808\n",
      "  },\n",
      "  \"system_fingerprint\": \"fp_aa87380ac5\"\n",
      "}\n",
      "\n"
     ]
    }
   ],
   "source": [
    "print(response.text)"
   ]
  },
  {
   "cell_type": "code",
   "execution_count": null,
   "id": "ebd10ec0",
   "metadata": {},
   "outputs": [],
   "source": []
  }
 ],
 "metadata": {
  "kernelspec": {
   "display_name": "Python 3 (ipykernel)",
   "language": "python",
   "name": "python3"
  },
  "language_info": {
   "codemirror_mode": {
    "name": "ipython",
    "version": 3
   },
   "file_extension": ".py",
   "mimetype": "text/x-python",
   "name": "python",
   "nbconvert_exporter": "python",
   "pygments_lexer": "ipython3",
   "version": "3.11.0"
  }
 },
 "nbformat": 4,
 "nbformat_minor": 5
}
